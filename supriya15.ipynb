{
 "cells": [
  {
   "cell_type": "code",
   "execution_count": null,
   "id": "9e94bf59",
   "metadata": {},
   "outputs": [],
   "source": [
    "#1. How do you distinguish between shutil.copy() and shutil.copytree()?\n",
    "\n",
    "\"\"\"The shutil.copy() fuction will copy a single file, whiile shutil.copytree()\n",
    "   will copy an entire folder, along with all its contents.\"\"\"\n",
    "\n",
    "#2. What function is used to rename files??\n",
    "\n",
    "\"\"\"The shutil.move() fuction is used for remaing file, as well as moving them.\"\"\"\n",
    "\n",
    "#3. What is the difference between the delete functions in the send2trash and shutil modules?\n",
    "\n",
    "\"\"\"The send2trash fuctions will move a file or folders to the recycle bin,\n",
    "   while shutil fuction will permanently delete files and folders.\"\"\"\n",
    "\n",
    "#4.ZipFile objects have a close() method just like File objects’ close() method. What ZipFile method is\n",
    "equivalent to File objects’ open() method?\n",
    "\n",
    "\"\"\"The zipfile.ZipFile() fuction is equivalent to the open() fuction; the\n",
    "   first argument is the filename, and the second argument is the mode to \n",
    "   open the ZIP file in (read, write, or append).\"\"\"\n",
    "\n",
    "#5. Create a programme that searches a folder tree for files with a certain file extension (such as .pdf\n",
    "or .jpg). Copy these files from whatever location they are in to a new folder.\n",
    "\n",
    "\"\"\"import os, shutil sourcePath = input('Enter the absloute path of the \n",
    "    source folder:') fileExtType = input('Enter the type of file to copy \n",
    "    (such as .pdf or .jpg):').lower()\n",
    "    destPath = input('Enter the absloute path of the destination folder:')\n",
    "    for foldername, subfolder, filenames in os.walk(sourcePath):\n",
    "    for filename in filenames:\n",
    "                                   if \n",
    "    filename.lower().endswith(fileExtType):\n",
    "    #print(foldername + '\\\\'+ filename)\n",
    "            copySourcePath            =\n",
    "    os.path.join(foldername, filename)\n",
    "    #print(copySourcePath)\n",
    "    shutil.copy(copySourcePath, destPath)\n",
    "    else:\n",
    "    countine\"\"\""
   ]
  }
 ],
 "metadata": {
  "kernelspec": {
   "display_name": "Python 3 (ipykernel)",
   "language": "python",
   "name": "python3"
  },
  "language_info": {
   "codemirror_mode": {
    "name": "ipython",
    "version": 3
   },
   "file_extension": ".py",
   "mimetype": "text/x-python",
   "name": "python",
   "nbconvert_exporter": "python",
   "pygments_lexer": "ipython3",
   "version": "3.9.12"
  }
 },
 "nbformat": 4,
 "nbformat_minor": 5
}
